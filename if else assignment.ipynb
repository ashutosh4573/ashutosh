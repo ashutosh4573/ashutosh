{
 "cells": [
  {
   "cell_type": "code",
   "execution_count": null,
   "id": "438beae7-c1b6-499f-af0f-f29f8231b5d0",
   "metadata": {},
   "outputs": [],
   "source": [
    "Q1. Write a program to calculate the electricity bill\n",
    "using only if statement? (accept number of unit from user)\n",
    "according to the following criteria:\n",
    "\n",
    "Unit Price\n",
    "First 100 units no charge\n",
    "Next 100 units Rs 5 per unit\n",
    "After 200 units Rs 10 per unit\n",
    "(For example, if input unit is 350 than total bill amount is Rs2000). Lets explain...\n",
    "For first 100 no charges\n",
    "Now you have 250 unit remaining\n",
    "100-200 you need to pay – 100*5 = 500\n",
    "Now 200-100 you need to pay 150*10 = 1500\n",
    "Total = 500+1500 = 2000\"\"\""
   ]
  },
  {
   "cell_type": "code",
   "execution_count": 11,
   "id": "f8fe0fa8-1dc8-4aad-a194-f31f067fc2ce",
   "metadata": {},
   "outputs": [
    {
     "name": "stdin",
     "output_type": "stream",
     "text": [
      "enter number of units : 300\n"
     ]
    },
    {
     "name": "stdout",
     "output_type": "stream",
     "text": [
      "Total Electricity bill = Rs 1500\n"
     ]
    }
   ],
   "source": [
    "units = int(input(\"enter number of units :\"))\n",
    "bill = 0\n",
    "# first 100 units - no charge\n",
    "if units > 100 :\n",
    "    #for units between 101 to 200\n",
    "    bill = (units - 100)*5\n",
    "else:\n",
    "    bill = 0\n",
    "if units > 200:\n",
    "    bill = (100*5) + (units - 200)*10\n",
    "print(\"Total Electricity bill = Rs\",bill)\n",
    "\n",
    "    "
   ]
  },
  {
   "cell_type": "code",
   "execution_count": null,
   "id": "ca71db22-9494-4057-9727-bbcc9a5d87f2",
   "metadata": {},
   "outputs": [],
   "source": [
    "Q2. Write a program to accept percentage from the user and display\n",
    "the grade according to the following criteria:\n",
    "\n",
    "Marks Grade\n",
    "> 90 A\n",
    "> 80 and <= 90 B\n",
    ">= 60 and <= 80 C\n",
    "below 60 D"
   ]
  },
  {
   "cell_type": "code",
   "execution_count": 15,
   "id": "51f36d65-229c-4003-af11-5218bd1a09b5",
   "metadata": {},
   "outputs": [
    {
     "name": "stdin",
     "output_type": "stream",
     "text": [
      "enter your percentage : 70\n"
     ]
    },
    {
     "name": "stdout",
     "output_type": "stream",
     "text": [
      "your grade is : C\n"
     ]
    }
   ],
   "source": [
    "marks = int(input(\"enter your percentage :\"))\n",
    "\n",
    "if marks > 90:\n",
    "    grade = \"A\"\n",
    "elif marks > 80 and marks <+ 90:\n",
    "    grade = \"B\"\n",
    "elif marks >= 60 and marks <= 80:\n",
    "    grade = \"C\"\n",
    "else:\n",
    "    grade = \"D\"\n",
    "print(\"your grade is :\",grade)\n"
   ]
  },
  {
   "cell_type": "code",
   "execution_count": 21,
   "id": "d693e5c2-3b91-47d6-8665-932b14351c85",
   "metadata": {},
   "outputs": [
    {
     "name": "stdin",
     "output_type": "stream",
     "text": [
      "Enter the age of person 1 : 80\n",
      "Enter the age of person 2:  20\n",
      "Enterthe age of person 3:  30\n",
      "enter the age of person 4 : 40\n"
     ]
    }
   ],
   "source": [
    "### Q3. Accept the age of 4 people and display the youngest one?\n",
    "age1 = int(input(\"Enter the age of person 1 :\"))\n",
    "age2 = int(input(\"Enter the age of person 2 : \"))\n",
    "age3 = int(input(\"Enterthe age of person 3: \"))\n",
    "age4 = int(input(\"Enter the age of person 4 :\"))"
   ]
  },
  {
   "cell_type": "code",
   "execution_count": 22,
   "id": "63dab576-3000-4f60-9546-2527c55e317d",
   "metadata": {},
   "outputs": [
    {
     "name": "stdout",
     "output_type": "stream",
     "text": [
      "the youngest age is 20\n"
     ]
    }
   ],
   "source": [
    "# Assume first person is the youngest\n",
    "youngest = age1\n",
    "\n",
    "if age2 < youngest:\n",
    "    youngest = age2\n",
    "if age3 < youngest:\n",
    "    youngest = age3\n",
    "if age4 < youngest :\n",
    "    youngest = age4\n",
    "print(\"the youngest age is\",youngest)"
   ]
  },
  {
   "cell_type": "code",
   "execution_count": null,
   "id": "baeb9021-ba3c-4960-a182-f5e63362b9a3",
   "metadata": {},
   "outputs": [],
   "source": [
    "Q4. A company decided to give bonus to employee\n",
    "according to following criteria:\n",
    "\n",
    "Time period of Service Bonus\n",
    "\n",
    "More than 10 years 10%\n",
    "\n",
    ">=6 and <=10 8%\n",
    "\n",
    "Less than 6 years 5%\n",
    "\n",
    "Ask user for their salary and years of service and print the\n",
    "net bonus amount?\"\"\""
   ]
  },
  {
   "cell_type": "code",
   "execution_count": 25,
   "id": "3061a6d8-40db-4b57-b22c-dfa2a240b045",
   "metadata": {},
   "outputs": [
    {
     "name": "stdin",
     "output_type": "stream",
     "text": [
      "enter your salary: 20000\n",
      "enter your years of service: 5\n"
     ]
    },
    {
     "name": "stdout",
     "output_type": "stream",
     "text": [
      "Your bonus amount is : Rs  1000.0\n"
     ]
    }
   ],
   "source": [
    "# Programe to calculate bonus based on years of service\n",
    "\n",
    "salary = float(input(\"enter your salary:\"))\n",
    "years = int(input(\"enter your years of service:\"))\n",
    "\n",
    "if years > 10:\n",
    "    bonus = 0.10 *salary\n",
    "elif years>= 6 and years <= 10:\n",
    "    bonus = 0.08 *salary\n",
    "else:\n",
    "    bonus = 0.05 *salary\n",
    "print(\"Your bonus amount is : Rs \", bonus)"
   ]
  },
  {
   "cell_type": "code",
   "execution_count": null,
   "id": "6044ad32-478e-4ce7-8701-3f659d8f3adc",
   "metadata": {},
   "outputs": [],
   "source": [
    "# Q5. Accept three numbers from the user and\n",
    "# display the second largest number?"
   ]
  },
  {
   "cell_type": "code",
   "execution_count": 28,
   "id": "76a76045-ab52-4562-92ea-72c9326992a8",
   "metadata": {},
   "outputs": [
    {
     "name": "stdin",
     "output_type": "stream",
     "text": [
      "enter first number : 2\n",
      "enter second number : 4\n",
      "enter third number : 6\n"
     ]
    },
    {
     "name": "stdout",
     "output_type": "stream",
     "text": [
      "The second largest number is : 4\n"
     ]
    }
   ],
   "source": [
    "# programe to find the second largest number among 3\n",
    "a = int(input(\"enter first number :\"))\n",
    "b = int(input(\"enter second number :\"))\n",
    "c = int(input(\"enter third number :\"))\n",
    "\n",
    "if (a > b and a < c) or (a > c and a < b):\n",
    "    second_largest = a\n",
    "elif ( b > a and b < c ) or ( b > C and b < a):\n",
    "    second_largest = b\n",
    "else:\n",
    "    second_largest = c\n",
    "print(\"The second largest number is :\", second_largest)"
   ]
  },
  {
   "cell_type": "code",
   "execution_count": null,
   "id": "e051f852-ae4f-4b68-a1af-bdf1477b5950",
   "metadata": {},
   "outputs": [],
   "source": [
    "Q6. Accept the marked price from the user and calculate\n",
    "the Net amount as (Marked Price – Discount) to pay\n",
    "according to following criteria:\n",
    "\n",
    "Marked Price Discount\n",
    ">10000 20%\n",
    ">7000 and <=10000 15%\n",
    "<=7000 10%\"\"\""
   ]
  },
  {
   "cell_type": "code",
   "execution_count": 29,
   "id": "fa7dac40-9064-471f-aed8-650b48b7ba28",
   "metadata": {},
   "outputs": [
    {
     "name": "stdin",
     "output_type": "stream",
     "text": [
      "enter the marked price : 32000\n"
     ]
    },
    {
     "name": "stdout",
     "output_type": "stream",
     "text": [
      "marked price : Rs 32000.0\n",
      "discount : Rs 6400.0\n",
      "Net amount to pay :Rs 25600.0\n"
     ]
    }
   ],
   "source": [
    "# Programe to calculate Net Amount after discount\n",
    "\n",
    "mp = float(input(\"enter the marked price :\"))\n",
    "\n",
    "if mp > 10000 :\n",
    "    discount = 0.20 * mp\n",
    "elif mp > 7000 and mp<= 10000 :\n",
    "    dicsount = 0.15 * mp\n",
    "else:\n",
    "    discount = 0.10 * mp\n",
    "net_amount = mp - discount\n",
    "print(\"marked price : Rs\", mp)\n",
    "print(\"discount : Rs\", discount)\n",
    "print(\"Net amount to pay :Rs\", net_amount)"
   ]
  },
  {
   "cell_type": "code",
   "execution_count": null,
   "id": "b863ff07-cd1a-4d05-ba95-e1341775bbee",
   "metadata": {},
   "outputs": [],
   "source": [
    "Q7. Accept the marks of English, Math and Science,\n",
    "Social Studies Subject and display the stream allotted\n",
    "according to following:\n",
    "\n",
    "All Subjects more than 80 marks — Science Stream\n",
    "\n",
    "English >80 and Math, Science above 50 — Commerce Stream\n",
    "\n",
    "English > 80 and social studies > 80 — Humanities\"\"\"\n"
   ]
  },
  {
   "cell_type": "code",
   "execution_count": 31,
   "id": "df03c290-18db-4533-a769-3f1fcfe99d73",
   "metadata": {},
   "outputs": [
    {
     "name": "stdin",
     "output_type": "stream",
     "text": [
      "Enter marks in english : 80\n",
      "Enter marks in maths : 40\n",
      "Enter marks in science : 65\n",
      "Enter marks in social science :  67\n"
     ]
    },
    {
     "name": "stdout",
     "output_type": "stream",
     "text": [
      "stream alloted : no stream criteria matched\n"
     ]
    }
   ],
   "source": [
    "#programe to allot stream based on marks\n",
    "eng = int(input(\"Enter marks in english :\"))\n",
    "math = int(input(\"Enter marks in maths :\"))\n",
    "sci = int(input(\"Enter marks in science :\" ))\n",
    "sst = int(input(\"Enter marks in social science : \"))\n",
    "\n",
    "if eng > 80 and maths > 80 and sci > 80 and sst > 80 :\n",
    "    stream = \"scince stream\"\n",
    "elif eng > 80 and math > 50 and sci > 50 :\n",
    "    stream + \"commerce stream\"\n",
    "elif eng > 80 and sst > 80 :\n",
    "    stream = \"humanities stream\"\n",
    "else :\n",
    "    stream = \"no stream criteria matched\"\n",
    "print(\"stream alloted :\", stream)"
   ]
  },
  {
   "cell_type": "code",
   "execution_count": null,
   "id": "254e420b-4d83-4220-8950-b01ee04c93ef",
   "metadata": {},
   "outputs": [],
   "source": [
    "Q8. Write a program to display \"Hello\" if a number entered\n",
    "by user is a multiple of five, otherwise print \"Bye\"?"
   ]
  },
  {
   "cell_type": "code",
   "execution_count": 32,
   "id": "64d3928e-9ed3-44e5-b237-f15e81ee937d",
   "metadata": {},
   "outputs": [
    {
     "name": "stdin",
     "output_type": "stream",
     "text": [
      "Enter a number: 15\n"
     ]
    },
    {
     "name": "stdout",
     "output_type": "stream",
     "text": [
      "Hello\n"
     ]
    }
   ],
   "source": [
    "# Programe to check multiple of 5\n",
    "\n",
    "num = int(input(\"Enter a number:\"))\n",
    "\n",
    "if num % 5 == 0 :\n",
    "    print(\"Hello\")\n",
    "else :\n",
    "    print(\"Bye\")\n"
   ]
  },
  {
   "cell_type": "code",
   "execution_count": null,
   "id": "b637ff83-0113-44db-8bec-a0e9acc04152",
   "metadata": {},
   "outputs": [],
   "source": [
    "Q9. Write a program to check whether the last digit of a number (entered by user)\n",
    "is divisible by 3 or not?"
   ]
  },
  {
   "cell_type": "code",
   "execution_count": 33,
   "id": "b3043548-6521-4bcd-b3d4-4a39c34f3c57",
   "metadata": {},
   "outputs": [
    {
     "name": "stdin",
     "output_type": "stream",
     "text": [
      "Enter a number : 9\n"
     ]
    },
    {
     "name": "stdout",
     "output_type": "stream",
     "text": [
      "Yes , the last digit is divisible by 3\n"
     ]
    }
   ],
   "source": [
    "# programe to check if last digit is divisible by 3\n",
    "\n",
    "num = int(input(\"Enter a number :\"))\n",
    "\n",
    "last_digit = num % 10 # get the last digit\n",
    "\n",
    "if last_digit % 3 == 0:\n",
    "    print(\"Yes , the last digit is divisible by 3\")\n",
    "else :\n",
    "    print(\"No , the last digit is not divisible by 3\")"
   ]
  },
  {
   "cell_type": "code",
   "execution_count": null,
   "id": "7fa8371f-b9bb-478c-8316-069835c0ca30",
   "metadata": {},
   "outputs": [],
   "source": [
    " Q10. Write a program to check whether a number entered \n",
    "is three-digit number or not?"
   ]
  },
  {
   "cell_type": "code",
   "execution_count": 34,
   "id": "3355eace-96b6-4b3c-9278-215d9d346e3f",
   "metadata": {},
   "outputs": [
    {
     "name": "stdin",
     "output_type": "stream",
     "text": [
      "enter a number : 76\n"
     ]
    },
    {
     "name": "stdout",
     "output_type": "stream",
     "text": [
      "No , it is not a three-digit number\n"
     ]
    }
   ],
   "source": [
    "# Programe to check if a number is a three-digit number\n",
    "\n",
    "num = int(input(\"enter a number :\"))\n",
    "\n",
    "if 100 <= abs(num) <= 999:\n",
    "    print(\"Yes , it is a three-digit number\")\n",
    "else:\n",
    "    print(\"No , it is not a three-digit number\")"
   ]
  },
  {
   "cell_type": "code",
   "execution_count": null,
   "id": "bdf5f853-3286-4e2d-808e-189f980e0987",
   "metadata": {},
   "outputs": [],
   "source": []
  },
  {
   "cell_type": "code",
   "execution_count": null,
   "id": "8dba24df-bc2f-4788-95e9-a3f11592173b",
   "metadata": {},
   "outputs": [],
   "source": []
  },
  {
   "cell_type": "code",
   "execution_count": null,
   "id": "25db7191-b956-4033-8d2b-f13c4cb0d1b5",
   "metadata": {},
   "outputs": [],
   "source": []
  },
  {
   "cell_type": "code",
   "execution_count": null,
   "id": "2898ca80-fbf7-4e67-a138-deafd7e00fbb",
   "metadata": {},
   "outputs": [],
   "source": []
  },
  {
   "cell_type": "code",
   "execution_count": null,
   "id": "8bfdf220-47e8-4d9e-8dd0-6c88be45c330",
   "metadata": {},
   "outputs": [],
   "source": []
  },
  {
   "cell_type": "code",
   "execution_count": null,
   "id": "9cc1170e-1afa-490d-ac22-49d6a5dd426d",
   "metadata": {},
   "outputs": [],
   "source": []
  },
  {
   "cell_type": "code",
   "execution_count": null,
   "id": "72ed24fc-5917-4d07-8cd2-5387a69a396e",
   "metadata": {},
   "outputs": [],
   "source": []
  },
  {
   "cell_type": "code",
   "execution_count": null,
   "id": "d2535c71-449e-4b36-b99c-baaf54580646",
   "metadata": {},
   "outputs": [],
   "source": []
  },
  {
   "cell_type": "code",
   "execution_count": null,
   "id": "d2970f78-1f08-471c-bc36-8ce096b23bbc",
   "metadata": {},
   "outputs": [],
   "source": []
  },
  {
   "cell_type": "code",
   "execution_count": null,
   "id": "1ca23414-5d2f-4f39-9eeb-25dc38427dcc",
   "metadata": {},
   "outputs": [],
   "source": []
  },
  {
   "cell_type": "code",
   "execution_count": null,
   "id": "de424115-29ee-48ac-a591-5b1a938025c8",
   "metadata": {},
   "outputs": [],
   "source": []
  },
  {
   "cell_type": "code",
   "execution_count": null,
   "id": "3cae2207-bd16-4077-899c-f73fa246926b",
   "metadata": {},
   "outputs": [],
   "source": []
  },
  {
   "cell_type": "code",
   "execution_count": null,
   "id": "3d712dc1-ea6a-475a-8d1f-6d94d58c3610",
   "metadata": {},
   "outputs": [],
   "source": []
  },
  {
   "cell_type": "code",
   "execution_count": null,
   "id": "5f3c18d7-a893-4960-8efd-c21c57c86c16",
   "metadata": {},
   "outputs": [],
   "source": []
  },
  {
   "cell_type": "code",
   "execution_count": null,
   "id": "bf8800b0-1c60-4ab0-af67-38a1e59bc69f",
   "metadata": {},
   "outputs": [],
   "source": []
  },
  {
   "cell_type": "code",
   "execution_count": null,
   "id": "7c801a3a-7076-4260-9094-dbaa56d2809f",
   "metadata": {},
   "outputs": [],
   "source": []
  },
  {
   "cell_type": "code",
   "execution_count": null,
   "id": "1aceff87-3b53-4c5b-be6b-0491b19e0fdb",
   "metadata": {},
   "outputs": [],
   "source": []
  },
  {
   "cell_type": "code",
   "execution_count": null,
   "id": "d86a7955-8bd4-40ae-9c4a-f11b482dceec",
   "metadata": {},
   "outputs": [],
   "source": []
  },
  {
   "cell_type": "code",
   "execution_count": null,
   "id": "0a66471b-c390-4d7b-b999-97a865fc1ae1",
   "metadata": {},
   "outputs": [],
   "source": []
  },
  {
   "cell_type": "code",
   "execution_count": null,
   "id": "487c1f2a-07cc-4589-96cf-01a307a29eca",
   "metadata": {},
   "outputs": [],
   "source": []
  },
  {
   "cell_type": "code",
   "execution_count": null,
   "id": "d99eb3a9-5f0c-4165-9d71-28b216df3f93",
   "metadata": {},
   "outputs": [],
   "source": []
  },
  {
   "cell_type": "code",
   "execution_count": null,
   "id": "cc4d6dca-5e0c-425c-9425-34eeed1a83e4",
   "metadata": {},
   "outputs": [],
   "source": []
  },
  {
   "cell_type": "code",
   "execution_count": null,
   "id": "eba0a9ff-d2a9-45fe-84fb-b0be157814eb",
   "metadata": {},
   "outputs": [],
   "source": []
  },
  {
   "cell_type": "code",
   "execution_count": null,
   "id": "cb84165d-c347-48c6-b1c4-f46c23684ae2",
   "metadata": {},
   "outputs": [],
   "source": []
  },
  {
   "cell_type": "code",
   "execution_count": null,
   "id": "813edfb6-5c06-4257-8bc4-82d4dd21c49e",
   "metadata": {},
   "outputs": [],
   "source": []
  },
  {
   "cell_type": "code",
   "execution_count": null,
   "id": "8847d812-1a12-481a-8117-ad81a20ea88f",
   "metadata": {},
   "outputs": [],
   "source": []
  },
  {
   "cell_type": "code",
   "execution_count": null,
   "id": "7e9773dd-3f02-4193-884d-f7a76a69d124",
   "metadata": {},
   "outputs": [],
   "source": []
  },
  {
   "cell_type": "code",
   "execution_count": null,
   "id": "3b56303c-21bb-4a84-9a10-92f702c0c8a9",
   "metadata": {},
   "outputs": [],
   "source": []
  },
  {
   "cell_type": "code",
   "execution_count": null,
   "id": "29ce1aac-c3e6-4d9f-b1b0-494eaf275055",
   "metadata": {},
   "outputs": [],
   "source": []
  },
  {
   "cell_type": "code",
   "execution_count": null,
   "id": "82e57163-dfad-470f-908d-203353365784",
   "metadata": {},
   "outputs": [],
   "source": []
  },
  {
   "cell_type": "code",
   "execution_count": null,
   "id": "202fc1fa-02c1-4ab9-8b7b-8baf5d14dd34",
   "metadata": {},
   "outputs": [],
   "source": []
  },
  {
   "cell_type": "code",
   "execution_count": null,
   "id": "267429ba-3648-4251-9bc0-e004abcca218",
   "metadata": {},
   "outputs": [],
   "source": []
  },
  {
   "cell_type": "code",
   "execution_count": null,
   "id": "83da9ea3-2e66-4e34-8047-1cc7570b6574",
   "metadata": {},
   "outputs": [],
   "source": []
  },
  {
   "cell_type": "code",
   "execution_count": null,
   "id": "90585163-7a2e-4bc0-8186-3e638595ee0d",
   "metadata": {},
   "outputs": [],
   "source": []
  },
  {
   "cell_type": "code",
   "execution_count": null,
   "id": "3c91909a-a017-47f6-928d-3c8825c0cd48",
   "metadata": {},
   "outputs": [],
   "source": []
  },
  {
   "cell_type": "code",
   "execution_count": null,
   "id": "7af3b641-3992-475e-aa7d-28acdbb5b725",
   "metadata": {},
   "outputs": [],
   "source": []
  },
  {
   "cell_type": "code",
   "execution_count": null,
   "id": "447544c0-ddce-4c42-92c9-4f9b20c81a09",
   "metadata": {},
   "outputs": [],
   "source": []
  },
  {
   "cell_type": "code",
   "execution_count": null,
   "id": "a1500a34-585a-4488-adb1-630a50284603",
   "metadata": {},
   "outputs": [],
   "source": []
  },
  {
   "cell_type": "code",
   "execution_count": null,
   "id": "4342b02e-cf23-4b70-b338-8c3e94bd1f17",
   "metadata": {},
   "outputs": [],
   "source": []
  },
  {
   "cell_type": "code",
   "execution_count": null,
   "id": "4db8f2d1-e292-4b00-a880-f65000d21f4a",
   "metadata": {},
   "outputs": [],
   "source": []
  },
  {
   "cell_type": "code",
   "execution_count": null,
   "id": "b3f1f234-d5f0-407f-9b49-61f8628504e1",
   "metadata": {},
   "outputs": [],
   "source": []
  },
  {
   "cell_type": "code",
   "execution_count": null,
   "id": "e0fd95b5-d992-4ebe-912e-727f10de115f",
   "metadata": {},
   "outputs": [],
   "source": []
  },
  {
   "cell_type": "code",
   "execution_count": null,
   "id": "e44da72a-aed1-475d-865e-932999c6f7f9",
   "metadata": {},
   "outputs": [],
   "source": []
  },
  {
   "cell_type": "code",
   "execution_count": null,
   "id": "0c89193a-4be8-40ef-a245-d8bbebb9f9dd",
   "metadata": {},
   "outputs": [],
   "source": []
  },
  {
   "cell_type": "code",
   "execution_count": null,
   "id": "044f0fec-1779-4273-9921-e45054ed6090",
   "metadata": {},
   "outputs": [],
   "source": []
  },
  {
   "cell_type": "code",
   "execution_count": null,
   "id": "7def1667-05e3-4809-8c33-6d95f2ff3d49",
   "metadata": {},
   "outputs": [],
   "source": []
  },
  {
   "cell_type": "code",
   "execution_count": null,
   "id": "0fb22b2b-9050-4809-a514-1a435a3da98a",
   "metadata": {},
   "outputs": [],
   "source": []
  },
  {
   "cell_type": "code",
   "execution_count": null,
   "id": "717bceb6-0170-42df-91e0-d10f1bd3a67c",
   "metadata": {},
   "outputs": [],
   "source": []
  },
  {
   "cell_type": "code",
   "execution_count": null,
   "id": "e6f2abc4-00ce-4b60-be70-6e1587fcbe16",
   "metadata": {},
   "outputs": [],
   "source": []
  },
  {
   "cell_type": "code",
   "execution_count": null,
   "id": "f36daa62-c7db-4f3c-bfc1-35e3304fef96",
   "metadata": {},
   "outputs": [],
   "source": []
  },
  {
   "cell_type": "code",
   "execution_count": null,
   "id": "1408f2b7-335e-4a53-8caa-71f3d4bdb304",
   "metadata": {},
   "outputs": [],
   "source": []
  },
  {
   "cell_type": "code",
   "execution_count": null,
   "id": "d7405d9b-8666-44cb-b2e2-05156c0b1bcb",
   "metadata": {},
   "outputs": [],
   "source": []
  },
  {
   "cell_type": "code",
   "execution_count": null,
   "id": "7f4a45d0-b466-4428-8a91-7f48a7eb096f",
   "metadata": {},
   "outputs": [],
   "source": []
  },
  {
   "cell_type": "code",
   "execution_count": null,
   "id": "27596d6d-42c2-4eea-b07b-d8e887dfab3f",
   "metadata": {},
   "outputs": [],
   "source": []
  },
  {
   "cell_type": "code",
   "execution_count": null,
   "id": "85efb4f6-4c92-4fee-a16f-4bb56a318ecb",
   "metadata": {},
   "outputs": [],
   "source": []
  },
  {
   "cell_type": "code",
   "execution_count": null,
   "id": "3a8dc1cc-ab4a-49a9-bcf7-faceef3ac4c4",
   "metadata": {},
   "outputs": [],
   "source": []
  },
  {
   "cell_type": "code",
   "execution_count": null,
   "id": "87d0ab5b-c1da-42e4-b2bc-c83041a82ee1",
   "metadata": {},
   "outputs": [],
   "source": []
  },
  {
   "cell_type": "code",
   "execution_count": null,
   "id": "9eb3425a-9e7d-43eb-8445-9e69634e6973",
   "metadata": {},
   "outputs": [],
   "source": []
  },
  {
   "cell_type": "code",
   "execution_count": null,
   "id": "6fe6c82c-17a6-4d35-b773-918a10a1a358",
   "metadata": {},
   "outputs": [],
   "source": []
  },
  {
   "cell_type": "code",
   "execution_count": null,
   "id": "77462578-dffd-4d86-9fc2-570a9ed5b74f",
   "metadata": {},
   "outputs": [],
   "source": []
  },
  {
   "cell_type": "code",
   "execution_count": null,
   "id": "fc91445a-cc12-478b-9f69-fc305752e6fd",
   "metadata": {},
   "outputs": [],
   "source": []
  },
  {
   "cell_type": "code",
   "execution_count": null,
   "id": "1970ec60-8001-4cdb-9815-c23165f2f97b",
   "metadata": {},
   "outputs": [],
   "source": []
  },
  {
   "cell_type": "code",
   "execution_count": null,
   "id": "75e61abd-abde-4ea8-9948-a6b1a9b2a72e",
   "metadata": {},
   "outputs": [],
   "source": []
  },
  {
   "cell_type": "code",
   "execution_count": null,
   "id": "9e040497-4a05-48f6-856a-1c606f390efd",
   "metadata": {},
   "outputs": [],
   "source": []
  },
  {
   "cell_type": "code",
   "execution_count": null,
   "id": "058c586e-96e7-4d86-bd44-2ffeb6644ce0",
   "metadata": {},
   "outputs": [],
   "source": []
  },
  {
   "cell_type": "code",
   "execution_count": null,
   "id": "b1fe6ef0-6134-459c-ab22-3c80db7b7768",
   "metadata": {},
   "outputs": [],
   "source": []
  },
  {
   "cell_type": "code",
   "execution_count": null,
   "id": "be9933f5-74c7-4b8a-b334-561e8b440502",
   "metadata": {},
   "outputs": [],
   "source": []
  },
  {
   "cell_type": "code",
   "execution_count": null,
   "id": "01f11e55-5e5e-49fb-a158-469139089a07",
   "metadata": {},
   "outputs": [],
   "source": []
  },
  {
   "cell_type": "code",
   "execution_count": null,
   "id": "7958f52c-653a-43f0-91d4-849e7b383d13",
   "metadata": {},
   "outputs": [],
   "source": []
  },
  {
   "cell_type": "code",
   "execution_count": null,
   "id": "96eb300d-0e53-4dfc-8158-4d09443e2e4b",
   "metadata": {},
   "outputs": [],
   "source": []
  },
  {
   "cell_type": "code",
   "execution_count": null,
   "id": "7b17af39-1b23-493f-984d-696af57297de",
   "metadata": {},
   "outputs": [],
   "source": []
  },
  {
   "cell_type": "code",
   "execution_count": null,
   "id": "5f70667e-5be0-4547-81ca-52b64c9ffdd9",
   "metadata": {},
   "outputs": [],
   "source": []
  },
  {
   "cell_type": "code",
   "execution_count": null,
   "id": "69c9acb2-2f74-47d6-927b-d1968aa9831c",
   "metadata": {},
   "outputs": [],
   "source": []
  },
  {
   "cell_type": "code",
   "execution_count": null,
   "id": "280ae10a-1b79-4076-ab97-4ce076dde566",
   "metadata": {},
   "outputs": [],
   "source": []
  },
  {
   "cell_type": "code",
   "execution_count": null,
   "id": "053b7c77-481d-4c2b-8957-3014caa930ed",
   "metadata": {},
   "outputs": [],
   "source": []
  },
  {
   "cell_type": "code",
   "execution_count": null,
   "id": "3ebcbde5-0fe6-4687-9eea-d718b4abbc25",
   "metadata": {},
   "outputs": [],
   "source": []
  },
  {
   "cell_type": "code",
   "execution_count": null,
   "id": "e34588a8-0b9b-4d98-a3d7-33f37e5d5f3a",
   "metadata": {},
   "outputs": [],
   "source": []
  },
  {
   "cell_type": "code",
   "execution_count": null,
   "id": "95beff76-f298-4975-a699-55be5e28b844",
   "metadata": {},
   "outputs": [],
   "source": []
  },
  {
   "cell_type": "code",
   "execution_count": null,
   "id": "3f215158-fb5c-4faa-8645-7808d3f2b6eb",
   "metadata": {},
   "outputs": [],
   "source": []
  },
  {
   "cell_type": "code",
   "execution_count": null,
   "id": "12ef2494-524d-4b23-ad6b-ad3ddd0e8805",
   "metadata": {},
   "outputs": [],
   "source": []
  },
  {
   "cell_type": "code",
   "execution_count": null,
   "id": "dc1327ba-a0f6-4526-8bd9-0d6c89567788",
   "metadata": {},
   "outputs": [],
   "source": []
  },
  {
   "cell_type": "code",
   "execution_count": null,
   "id": "3c2fc24f-c8c5-4d91-8ede-d982f638f66b",
   "metadata": {},
   "outputs": [],
   "source": []
  },
  {
   "cell_type": "code",
   "execution_count": null,
   "id": "9467d167-ee05-4626-80f2-34295df97d58",
   "metadata": {},
   "outputs": [],
   "source": []
  },
  {
   "cell_type": "code",
   "execution_count": null,
   "id": "ecdbc315-9217-43c4-b76a-6c3ebcebc9b7",
   "metadata": {},
   "outputs": [],
   "source": []
  },
  {
   "cell_type": "code",
   "execution_count": null,
   "id": "69ac3dfe-daa4-43c2-806d-9550097388a1",
   "metadata": {},
   "outputs": [],
   "source": []
  },
  {
   "cell_type": "code",
   "execution_count": null,
   "id": "51701a70-573e-4497-beda-9dbf2933b555",
   "metadata": {},
   "outputs": [],
   "source": []
  },
  {
   "cell_type": "code",
   "execution_count": null,
   "id": "b338bc00-0c8d-45df-bea3-69a772d52a43",
   "metadata": {},
   "outputs": [],
   "source": []
  },
  {
   "cell_type": "code",
   "execution_count": null,
   "id": "b1f65ab6-21c2-4c82-96d0-7246f786cde6",
   "metadata": {},
   "outputs": [],
   "source": []
  },
  {
   "cell_type": "code",
   "execution_count": null,
   "id": "d503d2d8-5037-4907-8265-fa55c2baec15",
   "metadata": {},
   "outputs": [],
   "source": []
  },
  {
   "cell_type": "code",
   "execution_count": null,
   "id": "7a542b12-eaf4-481e-9c60-d70a3ecc6758",
   "metadata": {},
   "outputs": [],
   "source": []
  },
  {
   "cell_type": "code",
   "execution_count": null,
   "id": "879febf1-7790-45c5-ad17-9f3a880c2916",
   "metadata": {},
   "outputs": [],
   "source": []
  },
  {
   "cell_type": "code",
   "execution_count": null,
   "id": "5092ce1a-988f-48a4-a154-acf87afa3af2",
   "metadata": {},
   "outputs": [],
   "source": []
  },
  {
   "cell_type": "code",
   "execution_count": null,
   "id": "82ea41ea-4db1-4b78-b32d-2588c5cef77d",
   "metadata": {},
   "outputs": [],
   "source": []
  },
  {
   "cell_type": "code",
   "execution_count": null,
   "id": "8c41b56a-80e2-44eb-8f71-e6a2652e38ae",
   "metadata": {},
   "outputs": [],
   "source": []
  },
  {
   "cell_type": "code",
   "execution_count": null,
   "id": "34985153-d503-46ec-8ba5-bd2f2174c688",
   "metadata": {},
   "outputs": [],
   "source": []
  },
  {
   "cell_type": "code",
   "execution_count": null,
   "id": "0fd14c32-2c25-472b-963b-6177aec28505",
   "metadata": {},
   "outputs": [],
   "source": []
  },
  {
   "cell_type": "code",
   "execution_count": null,
   "id": "c4b18efa-e058-405e-b320-c8e2b467f3aa",
   "metadata": {},
   "outputs": [],
   "source": []
  },
  {
   "cell_type": "code",
   "execution_count": null,
   "id": "f49de74e-8047-4e1a-88ee-72ec0fce956c",
   "metadata": {},
   "outputs": [],
   "source": []
  },
  {
   "cell_type": "code",
   "execution_count": null,
   "id": "27edd2f5-fad5-447e-b87f-2698baae6ab9",
   "metadata": {},
   "outputs": [],
   "source": []
  },
  {
   "cell_type": "code",
   "execution_count": null,
   "id": "e57cd42b-2c12-4ce8-87fb-ae3e3ec8439d",
   "metadata": {},
   "outputs": [],
   "source": []
  },
  {
   "cell_type": "code",
   "execution_count": null,
   "id": "f83c0479-404c-4df4-af1e-520da6444009",
   "metadata": {},
   "outputs": [],
   "source": []
  },
  {
   "cell_type": "code",
   "execution_count": null,
   "id": "f7db79c0-59ad-4077-8a9b-804454cf8ea6",
   "metadata": {},
   "outputs": [],
   "source": []
  },
  {
   "cell_type": "code",
   "execution_count": null,
   "id": "9a00f43c-f612-4009-95cd-078ca3baa58c",
   "metadata": {},
   "outputs": [],
   "source": []
  },
  {
   "cell_type": "code",
   "execution_count": null,
   "id": "ba257ef3-4020-4a47-93a4-64129d6ce333",
   "metadata": {},
   "outputs": [],
   "source": []
  },
  {
   "cell_type": "code",
   "execution_count": null,
   "id": "8ec66e5f-0768-4dc0-adfa-78891b26c9bd",
   "metadata": {},
   "outputs": [],
   "source": []
  },
  {
   "cell_type": "code",
   "execution_count": null,
   "id": "96743c3e-bca5-489d-9b18-32ab9900a737",
   "metadata": {},
   "outputs": [],
   "source": []
  },
  {
   "cell_type": "code",
   "execution_count": null,
   "id": "725fc67d-11e2-4111-a38d-7327969c9f4b",
   "metadata": {},
   "outputs": [],
   "source": []
  },
  {
   "cell_type": "code",
   "execution_count": null,
   "id": "548572ca-cce9-4ee6-b8a1-47af9ba8d088",
   "metadata": {},
   "outputs": [],
   "source": []
  },
  {
   "cell_type": "code",
   "execution_count": null,
   "id": "43059dd4-ea87-465e-a048-6e51884163fd",
   "metadata": {},
   "outputs": [],
   "source": []
  },
  {
   "cell_type": "code",
   "execution_count": null,
   "id": "dcf7a59a-1b52-44c5-900d-4a7798e3fc3b",
   "metadata": {},
   "outputs": [],
   "source": []
  },
  {
   "cell_type": "code",
   "execution_count": null,
   "id": "5e3f92a2-4bcb-4985-81f6-053a872ffe9e",
   "metadata": {},
   "outputs": [],
   "source": []
  },
  {
   "cell_type": "code",
   "execution_count": null,
   "id": "1fbfd00f-224c-4379-b0a5-f7fe266b93a4",
   "metadata": {},
   "outputs": [],
   "source": []
  },
  {
   "cell_type": "code",
   "execution_count": null,
   "id": "a9663f50-c0e4-4fe4-aea2-7875b20ace53",
   "metadata": {},
   "outputs": [],
   "source": []
  },
  {
   "cell_type": "code",
   "execution_count": null,
   "id": "ee541bc0-daf4-44b3-a98c-5515bef5f851",
   "metadata": {},
   "outputs": [],
   "source": []
  },
  {
   "cell_type": "code",
   "execution_count": null,
   "id": "9cf34231-5457-4bd7-9e31-a1415b0f8c64",
   "metadata": {},
   "outputs": [],
   "source": []
  },
  {
   "cell_type": "code",
   "execution_count": null,
   "id": "bd0befa9-19ae-417d-83d1-ed2600676270",
   "metadata": {},
   "outputs": [],
   "source": []
  },
  {
   "cell_type": "code",
   "execution_count": null,
   "id": "9fefb28b-6667-4667-9372-52d971563a62",
   "metadata": {},
   "outputs": [],
   "source": []
  },
  {
   "cell_type": "code",
   "execution_count": null,
   "id": "84e04f43-b942-456a-8ae9-4bbc931f60c6",
   "metadata": {},
   "outputs": [],
   "source": []
  },
  {
   "cell_type": "code",
   "execution_count": null,
   "id": "e9710391-3a9a-42aa-bcac-d4cef2ebfbe8",
   "metadata": {},
   "outputs": [],
   "source": []
  },
  {
   "cell_type": "code",
   "execution_count": null,
   "id": "96041237-20de-4a07-a429-f96b4abc8243",
   "metadata": {},
   "outputs": [],
   "source": []
  },
  {
   "cell_type": "code",
   "execution_count": null,
   "id": "6f3c8cf3-1c25-435d-9615-4d1232531409",
   "metadata": {},
   "outputs": [],
   "source": []
  },
  {
   "cell_type": "code",
   "execution_count": null,
   "id": "3040079d-cbea-492a-b009-327b23b4c921",
   "metadata": {},
   "outputs": [],
   "source": []
  },
  {
   "cell_type": "code",
   "execution_count": null,
   "id": "5557a586-6d15-447d-968c-d6f77a7ee69e",
   "metadata": {},
   "outputs": [],
   "source": []
  },
  {
   "cell_type": "code",
   "execution_count": null,
   "id": "0135587f-8303-43f8-80e3-b8f4eee057ac",
   "metadata": {},
   "outputs": [],
   "source": []
  },
  {
   "cell_type": "code",
   "execution_count": null,
   "id": "5329ddac-ab82-4d0c-a93e-e05cc02d1eb6",
   "metadata": {},
   "outputs": [],
   "source": []
  },
  {
   "cell_type": "code",
   "execution_count": null,
   "id": "9f1faf5d-669c-451a-b174-f964f6b74df6",
   "metadata": {},
   "outputs": [],
   "source": []
  },
  {
   "cell_type": "code",
   "execution_count": null,
   "id": "d1fe9455-889a-49cb-8304-3d39c0219ef3",
   "metadata": {},
   "outputs": [],
   "source": []
  },
  {
   "cell_type": "code",
   "execution_count": null,
   "id": "8ce27d35-2e1a-4ed8-bf7c-9301212455a5",
   "metadata": {},
   "outputs": [],
   "source": []
  },
  {
   "cell_type": "code",
   "execution_count": null,
   "id": "4b06b595-3094-4ec3-870a-258eeeb717e4",
   "metadata": {},
   "outputs": [],
   "source": []
  },
  {
   "cell_type": "code",
   "execution_count": null,
   "id": "d057c00d-20d3-442b-8af0-808e99da621e",
   "metadata": {},
   "outputs": [],
   "source": []
  },
  {
   "cell_type": "code",
   "execution_count": null,
   "id": "83baa301-638c-4196-b1ce-102e6bea67df",
   "metadata": {},
   "outputs": [],
   "source": []
  },
  {
   "cell_type": "code",
   "execution_count": null,
   "id": "7461e753-2d03-46f4-a630-431a74f2a24c",
   "metadata": {},
   "outputs": [],
   "source": []
  },
  {
   "cell_type": "code",
   "execution_count": null,
   "id": "2ae4df5a-1f8c-4a71-9b89-e78f4d5ffddc",
   "metadata": {},
   "outputs": [],
   "source": []
  },
  {
   "cell_type": "code",
   "execution_count": null,
   "id": "55a69c55-98e2-4520-8d50-c16e97f7ef97",
   "metadata": {},
   "outputs": [],
   "source": []
  },
  {
   "cell_type": "code",
   "execution_count": null,
   "id": "6209fb04-b1e2-4620-9fbf-3e8cf22c4b75",
   "metadata": {},
   "outputs": [],
   "source": []
  },
  {
   "cell_type": "code",
   "execution_count": null,
   "id": "509c0ba7-bf70-4143-95ce-689c3171422d",
   "metadata": {},
   "outputs": [],
   "source": []
  },
  {
   "cell_type": "code",
   "execution_count": null,
   "id": "1561aa46-4550-4013-a376-0ab41430fa7b",
   "metadata": {},
   "outputs": [],
   "source": []
  },
  {
   "cell_type": "code",
   "execution_count": null,
   "id": "69b6f121-788f-460e-ae6e-d250ec5f6754",
   "metadata": {},
   "outputs": [],
   "source": []
  },
  {
   "cell_type": "code",
   "execution_count": null,
   "id": "1539744d-95cd-4a42-8fa5-d4ccf8594dc3",
   "metadata": {},
   "outputs": [],
   "source": []
  },
  {
   "cell_type": "code",
   "execution_count": null,
   "id": "171a3937-1c65-4126-b281-99cb74f346e6",
   "metadata": {},
   "outputs": [],
   "source": []
  },
  {
   "cell_type": "code",
   "execution_count": null,
   "id": "cc78638e-a463-427f-b72a-4d1eda1cfc91",
   "metadata": {},
   "outputs": [],
   "source": []
  },
  {
   "cell_type": "code",
   "execution_count": null,
   "id": "31259717-5528-4275-8582-9bf77afc7a51",
   "metadata": {},
   "outputs": [],
   "source": []
  },
  {
   "cell_type": "code",
   "execution_count": null,
   "id": "a0f30f8f-6521-4e94-a32c-d9c756d5b259",
   "metadata": {},
   "outputs": [],
   "source": []
  },
  {
   "cell_type": "code",
   "execution_count": null,
   "id": "6dda5d55-4849-4a3b-ba33-cffbedadf5a6",
   "metadata": {},
   "outputs": [],
   "source": []
  },
  {
   "cell_type": "code",
   "execution_count": null,
   "id": "32dc88c5-18d1-4245-aae2-fe47a92a0c5d",
   "metadata": {},
   "outputs": [],
   "source": []
  },
  {
   "cell_type": "code",
   "execution_count": null,
   "id": "268f17d2-84e7-41d9-ae11-2afbe35f009a",
   "metadata": {},
   "outputs": [],
   "source": []
  },
  {
   "cell_type": "code",
   "execution_count": null,
   "id": "3d1e2a86-e707-4ac6-a78a-1839ded8ac09",
   "metadata": {},
   "outputs": [],
   "source": []
  },
  {
   "cell_type": "code",
   "execution_count": null,
   "id": "b578d329-71dc-4b6b-94a8-0c61d8896195",
   "metadata": {},
   "outputs": [],
   "source": []
  },
  {
   "cell_type": "code",
   "execution_count": null,
   "id": "de1d5017-7b31-4ea1-acfb-f36fb10be692",
   "metadata": {},
   "outputs": [],
   "source": []
  },
  {
   "cell_type": "code",
   "execution_count": null,
   "id": "fb8315af-bbf1-47db-8495-8f28d0808973",
   "metadata": {},
   "outputs": [],
   "source": []
  },
  {
   "cell_type": "code",
   "execution_count": null,
   "id": "38fb91e1-d6e9-475e-9cec-6ada55e98520",
   "metadata": {},
   "outputs": [],
   "source": []
  },
  {
   "cell_type": "code",
   "execution_count": null,
   "id": "e5502514-d941-4720-9ace-c14006006b97",
   "metadata": {},
   "outputs": [],
   "source": []
  },
  {
   "cell_type": "code",
   "execution_count": null,
   "id": "6b28d887-8a5b-415a-999c-0d24d176b12f",
   "metadata": {},
   "outputs": [],
   "source": []
  },
  {
   "cell_type": "code",
   "execution_count": null,
   "id": "508516d6-2332-4a3d-96bc-ea49131ce82a",
   "metadata": {},
   "outputs": [],
   "source": []
  },
  {
   "cell_type": "code",
   "execution_count": null,
   "id": "01c07fb0-6232-450a-86c6-aba4dd4bb1b8",
   "metadata": {},
   "outputs": [],
   "source": []
  },
  {
   "cell_type": "code",
   "execution_count": null,
   "id": "e3597fb2-9b1a-4a2c-afd7-a7c39b270c7d",
   "metadata": {},
   "outputs": [],
   "source": []
  },
  {
   "cell_type": "code",
   "execution_count": null,
   "id": "5b39436d-3bed-48dd-83f5-3386269405af",
   "metadata": {},
   "outputs": [],
   "source": []
  },
  {
   "cell_type": "code",
   "execution_count": null,
   "id": "3b364190-62f1-411e-8d49-52b13c994d76",
   "metadata": {},
   "outputs": [],
   "source": []
  },
  {
   "cell_type": "code",
   "execution_count": null,
   "id": "4af8c3b8-2e13-4e60-b505-a4db0daad010",
   "metadata": {},
   "outputs": [],
   "source": []
  },
  {
   "cell_type": "code",
   "execution_count": null,
   "id": "8887c3ce-38e0-444f-8abb-93469650dad6",
   "metadata": {},
   "outputs": [],
   "source": []
  },
  {
   "cell_type": "code",
   "execution_count": null,
   "id": "eff39edc-2433-4a63-a5b0-c7d381a94a38",
   "metadata": {},
   "outputs": [],
   "source": []
  },
  {
   "cell_type": "code",
   "execution_count": null,
   "id": "75d05602-fe20-4a58-985d-8de956a42870",
   "metadata": {},
   "outputs": [],
   "source": []
  },
  {
   "cell_type": "code",
   "execution_count": null,
   "id": "de6865a4-8e2c-4f24-a79c-9bbaed0677c6",
   "metadata": {},
   "outputs": [],
   "source": []
  },
  {
   "cell_type": "code",
   "execution_count": null,
   "id": "59587d72-6e76-41b8-9cfa-8e3bb314dc2b",
   "metadata": {},
   "outputs": [],
   "source": []
  },
  {
   "cell_type": "code",
   "execution_count": null,
   "id": "95d42e5f-40b0-4afb-9efc-43adc47a4b4f",
   "metadata": {},
   "outputs": [],
   "source": []
  },
  {
   "cell_type": "code",
   "execution_count": null,
   "id": "7e9e969d-9bc3-43fc-9f66-1aab7f77cc20",
   "metadata": {},
   "outputs": [],
   "source": []
  },
  {
   "cell_type": "code",
   "execution_count": null,
   "id": "37cb0f90-b554-4f2e-969f-e84fda34dd08",
   "metadata": {},
   "outputs": [],
   "source": []
  },
  {
   "cell_type": "code",
   "execution_count": null,
   "id": "e4c2737e-1d48-4b0e-a45a-9089a86f6f4c",
   "metadata": {},
   "outputs": [],
   "source": []
  },
  {
   "cell_type": "code",
   "execution_count": null,
   "id": "2734655e-1f07-4fda-ac26-4a71d926ac71",
   "metadata": {},
   "outputs": [],
   "source": []
  },
  {
   "cell_type": "code",
   "execution_count": null,
   "id": "ea103095-0974-482e-b355-76cb5451a617",
   "metadata": {},
   "outputs": [],
   "source": []
  },
  {
   "cell_type": "code",
   "execution_count": null,
   "id": "1c85cdbc-d07f-49e1-995d-fedc8fc3e3a3",
   "metadata": {},
   "outputs": [],
   "source": []
  },
  {
   "cell_type": "code",
   "execution_count": null,
   "id": "64e2c251-eba9-42de-ba7e-9dcaf126aa29",
   "metadata": {},
   "outputs": [],
   "source": []
  },
  {
   "cell_type": "code",
   "execution_count": null,
   "id": "a42474f3-578e-40e2-840a-551cd41bded6",
   "metadata": {},
   "outputs": [],
   "source": []
  },
  {
   "cell_type": "code",
   "execution_count": null,
   "id": "fe2bae22-4041-4b8f-8525-b6b32eca53c1",
   "metadata": {},
   "outputs": [],
   "source": []
  },
  {
   "cell_type": "code",
   "execution_count": null,
   "id": "9b98ecb9-ad20-4bcc-8e88-68ae38939a83",
   "metadata": {},
   "outputs": [],
   "source": []
  },
  {
   "cell_type": "code",
   "execution_count": null,
   "id": "113e8452-791a-4252-9a49-dd5a2fbc8be3",
   "metadata": {},
   "outputs": [],
   "source": []
  },
  {
   "cell_type": "code",
   "execution_count": null,
   "id": "90f39b0d-7ba7-41d4-a315-1a05f5e747af",
   "metadata": {},
   "outputs": [],
   "source": []
  },
  {
   "cell_type": "code",
   "execution_count": null,
   "id": "bd878342-07cf-480b-8146-f6df8771458b",
   "metadata": {},
   "outputs": [],
   "source": []
  },
  {
   "cell_type": "code",
   "execution_count": null,
   "id": "abf735f0-d5bb-4fc7-ad50-dce98f2484a6",
   "metadata": {},
   "outputs": [],
   "source": []
  },
  {
   "cell_type": "code",
   "execution_count": null,
   "id": "15b4127d-0c1d-4e9a-80b1-1258384f2e49",
   "metadata": {},
   "outputs": [],
   "source": []
  },
  {
   "cell_type": "code",
   "execution_count": null,
   "id": "7a959150-8ca0-4615-82a1-2bd98d51fc57",
   "metadata": {},
   "outputs": [],
   "source": []
  },
  {
   "cell_type": "code",
   "execution_count": null,
   "id": "d0911ff4-0a61-42ac-bb2a-0e94e4d0fab7",
   "metadata": {},
   "outputs": [],
   "source": []
  },
  {
   "cell_type": "code",
   "execution_count": null,
   "id": "44e963bd-5935-4a32-98a1-ebed63b684d2",
   "metadata": {},
   "outputs": [],
   "source": []
  },
  {
   "cell_type": "code",
   "execution_count": null,
   "id": "9993ec72-130f-4b2f-b9eb-197e0fc3219b",
   "metadata": {},
   "outputs": [],
   "source": []
  },
  {
   "cell_type": "code",
   "execution_count": null,
   "id": "97847e93-cee8-4749-966e-4492a8a83c1b",
   "metadata": {},
   "outputs": [],
   "source": []
  },
  {
   "cell_type": "code",
   "execution_count": null,
   "id": "e5f740cd-c8b5-469b-83a6-dea3be62352f",
   "metadata": {},
   "outputs": [],
   "source": []
  },
  {
   "cell_type": "code",
   "execution_count": null,
   "id": "a4d4d749-d570-447d-ad60-a4e659c54c8b",
   "metadata": {},
   "outputs": [],
   "source": []
  },
  {
   "cell_type": "code",
   "execution_count": null,
   "id": "c3955225-3e00-4468-a594-0c55d4325709",
   "metadata": {},
   "outputs": [],
   "source": []
  },
  {
   "cell_type": "code",
   "execution_count": null,
   "id": "e502a132-51a6-430a-b360-00a77e2c1879",
   "metadata": {},
   "outputs": [],
   "source": []
  },
  {
   "cell_type": "code",
   "execution_count": null,
   "id": "895cd706-0a7f-43ee-82d1-b8bc8cab1e6d",
   "metadata": {},
   "outputs": [],
   "source": []
  },
  {
   "cell_type": "code",
   "execution_count": null,
   "id": "becd55f5-2a0c-4efb-a130-1a08282015d3",
   "metadata": {},
   "outputs": [],
   "source": []
  },
  {
   "cell_type": "code",
   "execution_count": null,
   "id": "adb4bfda-0e72-4142-b6fc-f8924f33e738",
   "metadata": {},
   "outputs": [],
   "source": []
  },
  {
   "cell_type": "code",
   "execution_count": null,
   "id": "ff6e1fd0-c215-4281-b1c3-c763b0eca338",
   "metadata": {},
   "outputs": [],
   "source": []
  },
  {
   "cell_type": "code",
   "execution_count": null,
   "id": "f23ce3be-642d-4d24-bc4b-99fae9597477",
   "metadata": {},
   "outputs": [],
   "source": []
  },
  {
   "cell_type": "code",
   "execution_count": null,
   "id": "fbb35261-cd58-492b-967b-93dea78e957f",
   "metadata": {},
   "outputs": [],
   "source": []
  },
  {
   "cell_type": "code",
   "execution_count": null,
   "id": "124dadc4-c63b-4b4c-b4df-a44777030ca1",
   "metadata": {},
   "outputs": [],
   "source": []
  },
  {
   "cell_type": "code",
   "execution_count": null,
   "id": "e2f04b10-18df-4dae-aa2b-abf632d44f46",
   "metadata": {},
   "outputs": [],
   "source": []
  },
  {
   "cell_type": "code",
   "execution_count": null,
   "id": "5e6468f1-1644-4371-a0b5-345ac5d3bcdd",
   "metadata": {},
   "outputs": [],
   "source": []
  },
  {
   "cell_type": "code",
   "execution_count": null,
   "id": "5808520c-942b-4492-8ca3-b88030af64a8",
   "metadata": {},
   "outputs": [],
   "source": []
  },
  {
   "cell_type": "code",
   "execution_count": null,
   "id": "1f2619bd-f9ba-4bdb-a5c4-47805445c728",
   "metadata": {},
   "outputs": [],
   "source": []
  },
  {
   "cell_type": "code",
   "execution_count": null,
   "id": "e082c767-d494-454d-9acc-099349ff5d4e",
   "metadata": {},
   "outputs": [],
   "source": []
  },
  {
   "cell_type": "code",
   "execution_count": null,
   "id": "f300ffc5-ca31-4c66-90ef-98929eaaccd4",
   "metadata": {},
   "outputs": [],
   "source": []
  },
  {
   "cell_type": "code",
   "execution_count": null,
   "id": "335802f9-903e-4648-8719-26759ef10898",
   "metadata": {},
   "outputs": [],
   "source": []
  },
  {
   "cell_type": "code",
   "execution_count": null,
   "id": "6ad8e11c-a8d0-40f7-9933-b268f84de88b",
   "metadata": {},
   "outputs": [],
   "source": []
  },
  {
   "cell_type": "code",
   "execution_count": null,
   "id": "237d7f4e-6e1f-4239-afc2-6255bfb6737a",
   "metadata": {},
   "outputs": [],
   "source": []
  },
  {
   "cell_type": "code",
   "execution_count": null,
   "id": "0a8055a8-d79c-4e16-aa01-b30f37f0cd02",
   "metadata": {},
   "outputs": [],
   "source": []
  },
  {
   "cell_type": "code",
   "execution_count": null,
   "id": "8574123c-af49-463e-8c8c-175922eb73f6",
   "metadata": {},
   "outputs": [],
   "source": []
  },
  {
   "cell_type": "code",
   "execution_count": null,
   "id": "9c49238f-0d45-4378-bc61-4b9f912c2bf9",
   "metadata": {},
   "outputs": [],
   "source": []
  },
  {
   "cell_type": "code",
   "execution_count": null,
   "id": "a85a0d5e-0935-47df-8dfc-ac1ad014a11a",
   "metadata": {},
   "outputs": [],
   "source": []
  },
  {
   "cell_type": "code",
   "execution_count": null,
   "id": "626ffcc4-555c-4098-b827-88fe428760b0",
   "metadata": {},
   "outputs": [],
   "source": []
  },
  {
   "cell_type": "code",
   "execution_count": null,
   "id": "c4ccea95-6d6c-4e22-92a8-ddeae4b1a8d0",
   "metadata": {},
   "outputs": [],
   "source": []
  },
  {
   "cell_type": "code",
   "execution_count": null,
   "id": "0648170d-cbce-4abb-bb2e-e9be829f51ca",
   "metadata": {},
   "outputs": [],
   "source": []
  },
  {
   "cell_type": "code",
   "execution_count": null,
   "id": "eea602fb-6820-4ec5-8327-70c444f55774",
   "metadata": {},
   "outputs": [],
   "source": []
  },
  {
   "cell_type": "code",
   "execution_count": null,
   "id": "a7cad7fb-ee91-408b-b4da-51102c0fb0f2",
   "metadata": {},
   "outputs": [],
   "source": []
  },
  {
   "cell_type": "code",
   "execution_count": null,
   "id": "56f13b29-4832-49b0-86f6-b6b02671b42f",
   "metadata": {},
   "outputs": [],
   "source": []
  },
  {
   "cell_type": "code",
   "execution_count": null,
   "id": "da4bb33b-9598-4519-8487-f06a1670b2ee",
   "metadata": {},
   "outputs": [],
   "source": []
  },
  {
   "cell_type": "code",
   "execution_count": null,
   "id": "698cf2ec-ed29-491a-9d11-5e3dade168d7",
   "metadata": {},
   "outputs": [],
   "source": []
  },
  {
   "cell_type": "code",
   "execution_count": null,
   "id": "dc647c66-3ced-4d9d-a83b-1526953e385b",
   "metadata": {},
   "outputs": [],
   "source": []
  },
  {
   "cell_type": "code",
   "execution_count": null,
   "id": "3cd8a29d-d1d0-4ee6-a868-891155950aca",
   "metadata": {},
   "outputs": [],
   "source": []
  },
  {
   "cell_type": "code",
   "execution_count": null,
   "id": "15b55b8c-ec0d-44b3-bdc9-fa8f934d66ec",
   "metadata": {},
   "outputs": [],
   "source": []
  },
  {
   "cell_type": "code",
   "execution_count": null,
   "id": "3fd9527c-fff3-4007-a920-4280cdcafbd2",
   "metadata": {},
   "outputs": [],
   "source": []
  },
  {
   "cell_type": "code",
   "execution_count": null,
   "id": "fb3b4d49-d743-4993-9b1e-1811552d2fca",
   "metadata": {},
   "outputs": [],
   "source": []
  },
  {
   "cell_type": "code",
   "execution_count": null,
   "id": "16298398-f5a0-4ef3-a472-603cb3d753ef",
   "metadata": {},
   "outputs": [],
   "source": []
  },
  {
   "cell_type": "code",
   "execution_count": null,
   "id": "0011ca34-e315-455d-b5c1-80a31788a01b",
   "metadata": {},
   "outputs": [],
   "source": []
  },
  {
   "cell_type": "code",
   "execution_count": null,
   "id": "7e2e3235-9a52-4f47-8ce6-fc8840bcd29d",
   "metadata": {},
   "outputs": [],
   "source": []
  },
  {
   "cell_type": "code",
   "execution_count": null,
   "id": "4602d798-25bd-43a1-90b8-86a543fea45b",
   "metadata": {},
   "outputs": [],
   "source": []
  },
  {
   "cell_type": "code",
   "execution_count": null,
   "id": "026c1878-7c3c-490c-bf19-60531924e6da",
   "metadata": {},
   "outputs": [],
   "source": []
  },
  {
   "cell_type": "code",
   "execution_count": null,
   "id": "4ecf3dd7-9ef6-45ea-a309-6cb2c0a38427",
   "metadata": {},
   "outputs": [],
   "source": []
  },
  {
   "cell_type": "code",
   "execution_count": null,
   "id": "2984af90-3b54-4e30-ab86-63208fd4ff33",
   "metadata": {},
   "outputs": [],
   "source": []
  },
  {
   "cell_type": "code",
   "execution_count": null,
   "id": "9926e673-17d6-4736-a865-fe694ace181b",
   "metadata": {},
   "outputs": [],
   "source": []
  },
  {
   "cell_type": "code",
   "execution_count": null,
   "id": "5c45c891-b9f1-4357-9807-3a6649bf8b69",
   "metadata": {},
   "outputs": [],
   "source": []
  },
  {
   "cell_type": "code",
   "execution_count": null,
   "id": "c692d1d1-04cd-4626-b451-818c5132a135",
   "metadata": {},
   "outputs": [],
   "source": []
  },
  {
   "cell_type": "code",
   "execution_count": null,
   "id": "405159d9-10e8-4ade-a819-9818c34cd98c",
   "metadata": {},
   "outputs": [],
   "source": []
  },
  {
   "cell_type": "code",
   "execution_count": null,
   "id": "afb0169c-eb6b-4b74-b6c9-2f01452ac428",
   "metadata": {},
   "outputs": [],
   "source": []
  },
  {
   "cell_type": "code",
   "execution_count": null,
   "id": "a1c2fd1e-cd50-4874-9e0c-04a6e444f07a",
   "metadata": {},
   "outputs": [],
   "source": []
  },
  {
   "cell_type": "code",
   "execution_count": null,
   "id": "d2c09105-5410-462e-a997-8a6889bc4da5",
   "metadata": {},
   "outputs": [],
   "source": []
  },
  {
   "cell_type": "code",
   "execution_count": null,
   "id": "c47712b6-667f-4b08-b652-1a8b01ac241d",
   "metadata": {},
   "outputs": [],
   "source": []
  },
  {
   "cell_type": "code",
   "execution_count": null,
   "id": "544825c0-1e88-4fe7-8470-25694c7ef51b",
   "metadata": {},
   "outputs": [],
   "source": []
  },
  {
   "cell_type": "code",
   "execution_count": null,
   "id": "9d8b5b5b-f8e0-4571-98d1-859447c91e70",
   "metadata": {},
   "outputs": [],
   "source": []
  },
  {
   "cell_type": "code",
   "execution_count": null,
   "id": "b24594b0-938e-471c-be8e-d694a6d216f7",
   "metadata": {},
   "outputs": [],
   "source": []
  },
  {
   "cell_type": "code",
   "execution_count": null,
   "id": "8fcc6c62-650c-453e-a4da-40cd658d20c1",
   "metadata": {},
   "outputs": [],
   "source": []
  },
  {
   "cell_type": "code",
   "execution_count": null,
   "id": "ad6c28c8-ade8-4cab-a15d-d78ff5ba65d6",
   "metadata": {},
   "outputs": [],
   "source": []
  }
 ],
 "metadata": {
  "kernelspec": {
   "display_name": "Python 3 (ipykernel)",
   "language": "python",
   "name": "python3"
  },
  "language_info": {
   "codemirror_mode": {
    "name": "ipython",
    "version": 3
   },
   "file_extension": ".py",
   "mimetype": "text/x-python",
   "name": "python",
   "nbconvert_exporter": "python",
   "pygments_lexer": "ipython3",
   "version": "3.13.5"
  }
 },
 "nbformat": 4,
 "nbformat_minor": 5
}
